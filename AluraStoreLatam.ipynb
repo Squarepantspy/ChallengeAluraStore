{
  "cells": [
    {
      "cell_type": "markdown",
      "metadata": {
        "id": "RhEdWd9YUR6H"
      },
      "source": [
        "### Importación de datos\n",
        "\n"
      ]
    },
    {
      "cell_type": "code",
      "execution_count": 11,
      "metadata": {
        "colab": {
          "base_uri": "https://localhost:8080/",
          "height": 206
        },
        "id": "T3EvaeQ_INIL",
        "outputId": "e9c5efe1-82a3-43ab-e8d7-6d01e4fa3514"
      },
      "outputs": [
        {
          "data": {
            "application/vnd.microsoft.datawrangler.viewer.v0+json": {
              "columns": [
                {
                  "name": "index",
                  "rawType": "int64",
                  "type": "integer"
                },
                {
                  "name": "Producto",
                  "rawType": "object",
                  "type": "string"
                },
                {
                  "name": "Categoría del Producto",
                  "rawType": "object",
                  "type": "string"
                },
                {
                  "name": "Precio",
                  "rawType": "float64",
                  "type": "float"
                },
                {
                  "name": "Costo de envío",
                  "rawType": "float64",
                  "type": "float"
                },
                {
                  "name": "Fecha de Compra",
                  "rawType": "object",
                  "type": "string"
                },
                {
                  "name": "Vendedor",
                  "rawType": "object",
                  "type": "string"
                },
                {
                  "name": "Lugar de Compra",
                  "rawType": "object",
                  "type": "string"
                },
                {
                  "name": "Calificación",
                  "rawType": "int64",
                  "type": "integer"
                },
                {
                  "name": "Método de pago",
                  "rawType": "object",
                  "type": "string"
                },
                {
                  "name": "Cantidad de cuotas",
                  "rawType": "int64",
                  "type": "integer"
                },
                {
                  "name": "lat",
                  "rawType": "float64",
                  "type": "float"
                },
                {
                  "name": "lon",
                  "rawType": "float64",
                  "type": "float"
                }
              ],
              "ref": "8aa5084b-b149-474a-89bd-1fc06788c90d",
              "rows": [
                [
                  "0",
                  "Asistente virtual",
                  "Electrónicos",
                  "164300.0",
                  "6900.0",
                  "16/01/2021",
                  "Pedro Gomez",
                  "Bogotá",
                  "4",
                  "Tarjeta de crédito",
                  "8",
                  "4.60971",
                  "-74.08175"
                ],
                [
                  "1",
                  "Mesa de comedor",
                  "Muebles",
                  "192300.0",
                  "8400.0",
                  "18/05/2022",
                  "Beatriz Morales",
                  "Medellín",
                  "1",
                  "Tarjeta de crédito",
                  "4",
                  "6.25184",
                  "-75.56359"
                ],
                [
                  "2",
                  "Juego de mesa",
                  "Juguetes",
                  "209600.0",
                  "15900.0",
                  "15/03/2021",
                  "Juan Fernandez",
                  "Cartagena",
                  "1",
                  "Tarjeta de crédito",
                  "1",
                  "10.39972",
                  "-75.51444"
                ],
                [
                  "3",
                  "Microondas",
                  "Electrodomésticos",
                  "757500.0",
                  "41000.0",
                  "03/05/2022",
                  "Juan Fernandez",
                  "Cali",
                  "4",
                  "Nequi",
                  "1",
                  "3.43722",
                  "-76.5225"
                ],
                [
                  "4",
                  "Silla de oficina",
                  "Muebles",
                  "335200.0",
                  "20200.0",
                  "07/11/2020",
                  "Maria Alfonso",
                  "Medellín",
                  "5",
                  "Nequi",
                  "1",
                  "6.25184",
                  "-75.56359"
                ]
              ],
              "shape": {
                "columns": 12,
                "rows": 5
              }
            },
            "text/html": [
              "<div>\n",
              "<style scoped>\n",
              "    .dataframe tbody tr th:only-of-type {\n",
              "        vertical-align: middle;\n",
              "    }\n",
              "\n",
              "    .dataframe tbody tr th {\n",
              "        vertical-align: top;\n",
              "    }\n",
              "\n",
              "    .dataframe thead th {\n",
              "        text-align: right;\n",
              "    }\n",
              "</style>\n",
              "<table border=\"1\" class=\"dataframe\">\n",
              "  <thead>\n",
              "    <tr style=\"text-align: right;\">\n",
              "      <th></th>\n",
              "      <th>Producto</th>\n",
              "      <th>Categoría del Producto</th>\n",
              "      <th>Precio</th>\n",
              "      <th>Costo de envío</th>\n",
              "      <th>Fecha de Compra</th>\n",
              "      <th>Vendedor</th>\n",
              "      <th>Lugar de Compra</th>\n",
              "      <th>Calificación</th>\n",
              "      <th>Método de pago</th>\n",
              "      <th>Cantidad de cuotas</th>\n",
              "      <th>lat</th>\n",
              "      <th>lon</th>\n",
              "    </tr>\n",
              "  </thead>\n",
              "  <tbody>\n",
              "    <tr>\n",
              "      <th>0</th>\n",
              "      <td>Asistente virtual</td>\n",
              "      <td>Electrónicos</td>\n",
              "      <td>164300.0</td>\n",
              "      <td>6900.0</td>\n",
              "      <td>16/01/2021</td>\n",
              "      <td>Pedro Gomez</td>\n",
              "      <td>Bogotá</td>\n",
              "      <td>4</td>\n",
              "      <td>Tarjeta de crédito</td>\n",
              "      <td>8</td>\n",
              "      <td>4.60971</td>\n",
              "      <td>-74.08175</td>\n",
              "    </tr>\n",
              "    <tr>\n",
              "      <th>1</th>\n",
              "      <td>Mesa de comedor</td>\n",
              "      <td>Muebles</td>\n",
              "      <td>192300.0</td>\n",
              "      <td>8400.0</td>\n",
              "      <td>18/05/2022</td>\n",
              "      <td>Beatriz Morales</td>\n",
              "      <td>Medellín</td>\n",
              "      <td>1</td>\n",
              "      <td>Tarjeta de crédito</td>\n",
              "      <td>4</td>\n",
              "      <td>6.25184</td>\n",
              "      <td>-75.56359</td>\n",
              "    </tr>\n",
              "    <tr>\n",
              "      <th>2</th>\n",
              "      <td>Juego de mesa</td>\n",
              "      <td>Juguetes</td>\n",
              "      <td>209600.0</td>\n",
              "      <td>15900.0</td>\n",
              "      <td>15/03/2021</td>\n",
              "      <td>Juan Fernandez</td>\n",
              "      <td>Cartagena</td>\n",
              "      <td>1</td>\n",
              "      <td>Tarjeta de crédito</td>\n",
              "      <td>1</td>\n",
              "      <td>10.39972</td>\n",
              "      <td>-75.51444</td>\n",
              "    </tr>\n",
              "    <tr>\n",
              "      <th>3</th>\n",
              "      <td>Microondas</td>\n",
              "      <td>Electrodomésticos</td>\n",
              "      <td>757500.0</td>\n",
              "      <td>41000.0</td>\n",
              "      <td>03/05/2022</td>\n",
              "      <td>Juan Fernandez</td>\n",
              "      <td>Cali</td>\n",
              "      <td>4</td>\n",
              "      <td>Nequi</td>\n",
              "      <td>1</td>\n",
              "      <td>3.43722</td>\n",
              "      <td>-76.52250</td>\n",
              "    </tr>\n",
              "    <tr>\n",
              "      <th>4</th>\n",
              "      <td>Silla de oficina</td>\n",
              "      <td>Muebles</td>\n",
              "      <td>335200.0</td>\n",
              "      <td>20200.0</td>\n",
              "      <td>07/11/2020</td>\n",
              "      <td>Maria Alfonso</td>\n",
              "      <td>Medellín</td>\n",
              "      <td>5</td>\n",
              "      <td>Nequi</td>\n",
              "      <td>1</td>\n",
              "      <td>6.25184</td>\n",
              "      <td>-75.56359</td>\n",
              "    </tr>\n",
              "  </tbody>\n",
              "</table>\n",
              "</div>"
            ],
            "text/plain": [
              "            Producto Categoría del Producto    Precio  Costo de envío  \\\n",
              "0  Asistente virtual           Electrónicos  164300.0          6900.0   \n",
              "1    Mesa de comedor                Muebles  192300.0          8400.0   \n",
              "2      Juego de mesa               Juguetes  209600.0         15900.0   \n",
              "3         Microondas      Electrodomésticos  757500.0         41000.0   \n",
              "4   Silla de oficina                Muebles  335200.0         20200.0   \n",
              "\n",
              "  Fecha de Compra         Vendedor Lugar de Compra  Calificación  \\\n",
              "0      16/01/2021      Pedro Gomez          Bogotá             4   \n",
              "1      18/05/2022  Beatriz Morales        Medellín             1   \n",
              "2      15/03/2021   Juan Fernandez       Cartagena             1   \n",
              "3      03/05/2022   Juan Fernandez            Cali             4   \n",
              "4      07/11/2020    Maria Alfonso        Medellín             5   \n",
              "\n",
              "       Método de pago  Cantidad de cuotas       lat       lon  \n",
              "0  Tarjeta de crédito                   8   4.60971 -74.08175  \n",
              "1  Tarjeta de crédito                   4   6.25184 -75.56359  \n",
              "2  Tarjeta de crédito                   1  10.39972 -75.51444  \n",
              "3               Nequi                   1   3.43722 -76.52250  \n",
              "4               Nequi                   1   6.25184 -75.56359  "
            ]
          },
          "execution_count": 11,
          "metadata": {},
          "output_type": "execute_result"
        }
      ],
      "source": [
        "import pandas as pd\n",
        "\n",
        "url = \"https://raw.githubusercontent.com/alura-es-cursos/challenge1-data-science-latam/refs/heads/main/base-de-datos-challenge1-latam/tienda_1%20.csv\"\n",
        "url2 = \"https://raw.githubusercontent.com/alura-es-cursos/challenge1-data-science-latam/refs/heads/main/base-de-datos-challenge1-latam/tienda_2.csv\"\n",
        "url3 = \"https://raw.githubusercontent.com/alura-es-cursos/challenge1-data-science-latam/refs/heads/main/base-de-datos-challenge1-latam/tienda_3.csv\"\n",
        "url4 = \"https://raw.githubusercontent.com/alura-es-cursos/challenge1-data-science-latam/refs/heads/main/base-de-datos-challenge1-latam/tienda_4.csv\"\n",
        "\n",
        "tienda = pd.read_csv(url)\n",
        "tienda2 = pd.read_csv(url2)\n",
        "tienda3 = pd.read_csv(url3)\n",
        "tienda4 = pd.read_csv(url4)\n",
        "\n",
        "tienda.head()"
      ]
    },
    {
      "cell_type": "code",
      "execution_count": 12,
      "metadata": {},
      "outputs": [
        {
          "data": {
            "application/vnd.microsoft.datawrangler.viewer.v0+json": {
              "columns": [
                {
                  "name": "index",
                  "rawType": "int64",
                  "type": "integer"
                },
                {
                  "name": "Producto",
                  "rawType": "object",
                  "type": "string"
                },
                {
                  "name": "Categoría del Producto",
                  "rawType": "object",
                  "type": "string"
                },
                {
                  "name": "Precio",
                  "rawType": "float64",
                  "type": "float"
                },
                {
                  "name": "Costo de envío",
                  "rawType": "float64",
                  "type": "float"
                },
                {
                  "name": "Fecha de Compra",
                  "rawType": "object",
                  "type": "string"
                },
                {
                  "name": "Vendedor",
                  "rawType": "object",
                  "type": "string"
                },
                {
                  "name": "Lugar de Compra",
                  "rawType": "object",
                  "type": "string"
                },
                {
                  "name": "Calificación",
                  "rawType": "int64",
                  "type": "integer"
                },
                {
                  "name": "Método de pago",
                  "rawType": "object",
                  "type": "string"
                },
                {
                  "name": "Cantidad de cuotas",
                  "rawType": "int64",
                  "type": "integer"
                },
                {
                  "name": "lat",
                  "rawType": "float64",
                  "type": "float"
                },
                {
                  "name": "lon",
                  "rawType": "float64",
                  "type": "float"
                }
              ],
              "ref": "6f5cf730-ca6f-4ab2-9f0e-f28e14a0e7f3",
              "rows": [
                [
                  "0",
                  "Silla de oficina",
                  "Muebles",
                  "283600.0",
                  "15300.0",
                  "04/08/2021",
                  "Izabela de León",
                  "Medellín",
                  "1",
                  "Nequi",
                  "1",
                  "6.25184",
                  "-75.56359"
                ],
                [
                  "1",
                  "Pandereta",
                  "Instrumentos musicales",
                  "76800.0",
                  "2300.0",
                  "26/11/2020",
                  "Blanca Ramirez",
                  "Medellín",
                  "3",
                  "Tarjeta de crédito",
                  "4",
                  "6.25184",
                  "-75.56359"
                ],
                [
                  "2",
                  "Cama king",
                  "Muebles",
                  "443300.0",
                  "23800.0",
                  "22/10/2021",
                  "Izabela de León",
                  "Pereira",
                  "5",
                  "Tarjeta de crédito",
                  "10",
                  "4.81333",
                  "-75.69611"
                ],
                [
                  "3",
                  "Cama king",
                  "Muebles",
                  "906200.0",
                  "46400.0",
                  "04/05/2022",
                  "Maria Alfonso",
                  "Cali",
                  "5",
                  "Tarjeta de crédito",
                  "10",
                  "3.43722",
                  "-76.5225"
                ],
                [
                  "4",
                  "Silla de oficina",
                  "Muebles",
                  "397800.0",
                  "19400.0",
                  "26/02/2022",
                  "Lucas Olivera",
                  "Bogotá",
                  "4",
                  "Tarjeta de crédito",
                  "3",
                  "4.60971",
                  "-74.08175"
                ]
              ],
              "shape": {
                "columns": 12,
                "rows": 5
              }
            },
            "text/html": [
              "<div>\n",
              "<style scoped>\n",
              "    .dataframe tbody tr th:only-of-type {\n",
              "        vertical-align: middle;\n",
              "    }\n",
              "\n",
              "    .dataframe tbody tr th {\n",
              "        vertical-align: top;\n",
              "    }\n",
              "\n",
              "    .dataframe thead th {\n",
              "        text-align: right;\n",
              "    }\n",
              "</style>\n",
              "<table border=\"1\" class=\"dataframe\">\n",
              "  <thead>\n",
              "    <tr style=\"text-align: right;\">\n",
              "      <th></th>\n",
              "      <th>Producto</th>\n",
              "      <th>Categoría del Producto</th>\n",
              "      <th>Precio</th>\n",
              "      <th>Costo de envío</th>\n",
              "      <th>Fecha de Compra</th>\n",
              "      <th>Vendedor</th>\n",
              "      <th>Lugar de Compra</th>\n",
              "      <th>Calificación</th>\n",
              "      <th>Método de pago</th>\n",
              "      <th>Cantidad de cuotas</th>\n",
              "      <th>lat</th>\n",
              "      <th>lon</th>\n",
              "    </tr>\n",
              "  </thead>\n",
              "  <tbody>\n",
              "    <tr>\n",
              "      <th>0</th>\n",
              "      <td>Silla de oficina</td>\n",
              "      <td>Muebles</td>\n",
              "      <td>283600.0</td>\n",
              "      <td>15300.0</td>\n",
              "      <td>04/08/2021</td>\n",
              "      <td>Izabela de León</td>\n",
              "      <td>Medellín</td>\n",
              "      <td>1</td>\n",
              "      <td>Nequi</td>\n",
              "      <td>1</td>\n",
              "      <td>6.25184</td>\n",
              "      <td>-75.56359</td>\n",
              "    </tr>\n",
              "    <tr>\n",
              "      <th>1</th>\n",
              "      <td>Pandereta</td>\n",
              "      <td>Instrumentos musicales</td>\n",
              "      <td>76800.0</td>\n",
              "      <td>2300.0</td>\n",
              "      <td>26/11/2020</td>\n",
              "      <td>Blanca Ramirez</td>\n",
              "      <td>Medellín</td>\n",
              "      <td>3</td>\n",
              "      <td>Tarjeta de crédito</td>\n",
              "      <td>4</td>\n",
              "      <td>6.25184</td>\n",
              "      <td>-75.56359</td>\n",
              "    </tr>\n",
              "    <tr>\n",
              "      <th>2</th>\n",
              "      <td>Cama king</td>\n",
              "      <td>Muebles</td>\n",
              "      <td>443300.0</td>\n",
              "      <td>23800.0</td>\n",
              "      <td>22/10/2021</td>\n",
              "      <td>Izabela de León</td>\n",
              "      <td>Pereira</td>\n",
              "      <td>5</td>\n",
              "      <td>Tarjeta de crédito</td>\n",
              "      <td>10</td>\n",
              "      <td>4.81333</td>\n",
              "      <td>-75.69611</td>\n",
              "    </tr>\n",
              "    <tr>\n",
              "      <th>3</th>\n",
              "      <td>Cama king</td>\n",
              "      <td>Muebles</td>\n",
              "      <td>906200.0</td>\n",
              "      <td>46400.0</td>\n",
              "      <td>04/05/2022</td>\n",
              "      <td>Maria Alfonso</td>\n",
              "      <td>Cali</td>\n",
              "      <td>5</td>\n",
              "      <td>Tarjeta de crédito</td>\n",
              "      <td>10</td>\n",
              "      <td>3.43722</td>\n",
              "      <td>-76.52250</td>\n",
              "    </tr>\n",
              "    <tr>\n",
              "      <th>4</th>\n",
              "      <td>Silla de oficina</td>\n",
              "      <td>Muebles</td>\n",
              "      <td>397800.0</td>\n",
              "      <td>19400.0</td>\n",
              "      <td>26/02/2022</td>\n",
              "      <td>Lucas Olivera</td>\n",
              "      <td>Bogotá</td>\n",
              "      <td>4</td>\n",
              "      <td>Tarjeta de crédito</td>\n",
              "      <td>3</td>\n",
              "      <td>4.60971</td>\n",
              "      <td>-74.08175</td>\n",
              "    </tr>\n",
              "  </tbody>\n",
              "</table>\n",
              "</div>"
            ],
            "text/plain": [
              "           Producto  Categoría del Producto    Precio  Costo de envío  \\\n",
              "0  Silla de oficina                 Muebles  283600.0         15300.0   \n",
              "1         Pandereta  Instrumentos musicales   76800.0          2300.0   \n",
              "2         Cama king                 Muebles  443300.0         23800.0   \n",
              "3         Cama king                 Muebles  906200.0         46400.0   \n",
              "4  Silla de oficina                 Muebles  397800.0         19400.0   \n",
              "\n",
              "  Fecha de Compra         Vendedor Lugar de Compra  Calificación  \\\n",
              "0      04/08/2021  Izabela de León        Medellín             1   \n",
              "1      26/11/2020   Blanca Ramirez        Medellín             3   \n",
              "2      22/10/2021  Izabela de León         Pereira             5   \n",
              "3      04/05/2022    Maria Alfonso            Cali             5   \n",
              "4      26/02/2022    Lucas Olivera          Bogotá             4   \n",
              "\n",
              "       Método de pago  Cantidad de cuotas      lat       lon  \n",
              "0               Nequi                   1  6.25184 -75.56359  \n",
              "1  Tarjeta de crédito                   4  6.25184 -75.56359  \n",
              "2  Tarjeta de crédito                  10  4.81333 -75.69611  \n",
              "3  Tarjeta de crédito                  10  3.43722 -76.52250  \n",
              "4  Tarjeta de crédito                   3  4.60971 -74.08175  "
            ]
          },
          "execution_count": 12,
          "metadata": {},
          "output_type": "execute_result"
        }
      ],
      "source": [
        "tienda2.head()"
      ]
    },
    {
      "cell_type": "code",
      "execution_count": 13,
      "metadata": {},
      "outputs": [
        {
          "data": {
            "application/vnd.microsoft.datawrangler.viewer.v0+json": {
              "columns": [
                {
                  "name": "index",
                  "rawType": "int64",
                  "type": "integer"
                },
                {
                  "name": "Producto",
                  "rawType": "object",
                  "type": "string"
                },
                {
                  "name": "Categoría del Producto",
                  "rawType": "object",
                  "type": "string"
                },
                {
                  "name": "Precio",
                  "rawType": "float64",
                  "type": "float"
                },
                {
                  "name": "Costo de envío",
                  "rawType": "float64",
                  "type": "float"
                },
                {
                  "name": "Fecha de Compra",
                  "rawType": "object",
                  "type": "string"
                },
                {
                  "name": "Vendedor",
                  "rawType": "object",
                  "type": "string"
                },
                {
                  "name": "Lugar de Compra",
                  "rawType": "object",
                  "type": "string"
                },
                {
                  "name": "Calificación",
                  "rawType": "int64",
                  "type": "integer"
                },
                {
                  "name": "Método de pago",
                  "rawType": "object",
                  "type": "string"
                },
                {
                  "name": "Cantidad de cuotas",
                  "rawType": "int64",
                  "type": "integer"
                },
                {
                  "name": "lat",
                  "rawType": "float64",
                  "type": "float"
                },
                {
                  "name": "lon",
                  "rawType": "float64",
                  "type": "float"
                }
              ],
              "ref": "55133780-60c6-4442-9d91-9712cc91f99a",
              "rows": [
                [
                  "0",
                  "Lavavajillas",
                  "Electrodomésticos",
                  "1084800.0",
                  "56000.0",
                  "11/11/2022",
                  "Rafael Acosta",
                  "Bogotá",
                  "4",
                  "Tarjeta de crédito",
                  "3",
                  "4.60971",
                  "-74.08175"
                ],
                [
                  "1",
                  "Cama box",
                  "Muebles",
                  "473800.0",
                  "25400.0",
                  "03/01/2020",
                  "Izabela de León",
                  "Cúcuta",
                  "5",
                  "Tarjeta de crédito",
                  "2",
                  "7.89391",
                  "-72.50782"
                ],
                [
                  "2",
                  "Balón de baloncesto",
                  "Deportes y diversión",
                  "23700.0",
                  "0.0",
                  "25/12/2022",
                  "Maria Alfonso",
                  "Medellín",
                  "5",
                  "Nequi",
                  "1",
                  "6.25184",
                  "-75.56359"
                ],
                [
                  "3",
                  "Modelado predictivo",
                  "Libros",
                  "57700.0",
                  "1300.0",
                  "23/11/2021",
                  "Lucas Olivera",
                  "Medellín",
                  "3",
                  "Nequi",
                  "1",
                  "6.25184",
                  "-75.56359"
                ],
                [
                  "4",
                  "Auriculares",
                  "Electrónicos",
                  "138900.0",
                  "5600.0",
                  "25/04/2022",
                  "Blanca Ramirez",
                  "Bogotá",
                  "4",
                  "Tarjeta de crédito",
                  "7",
                  "4.60971",
                  "-74.08175"
                ]
              ],
              "shape": {
                "columns": 12,
                "rows": 5
              }
            },
            "text/html": [
              "<div>\n",
              "<style scoped>\n",
              "    .dataframe tbody tr th:only-of-type {\n",
              "        vertical-align: middle;\n",
              "    }\n",
              "\n",
              "    .dataframe tbody tr th {\n",
              "        vertical-align: top;\n",
              "    }\n",
              "\n",
              "    .dataframe thead th {\n",
              "        text-align: right;\n",
              "    }\n",
              "</style>\n",
              "<table border=\"1\" class=\"dataframe\">\n",
              "  <thead>\n",
              "    <tr style=\"text-align: right;\">\n",
              "      <th></th>\n",
              "      <th>Producto</th>\n",
              "      <th>Categoría del Producto</th>\n",
              "      <th>Precio</th>\n",
              "      <th>Costo de envío</th>\n",
              "      <th>Fecha de Compra</th>\n",
              "      <th>Vendedor</th>\n",
              "      <th>Lugar de Compra</th>\n",
              "      <th>Calificación</th>\n",
              "      <th>Método de pago</th>\n",
              "      <th>Cantidad de cuotas</th>\n",
              "      <th>lat</th>\n",
              "      <th>lon</th>\n",
              "    </tr>\n",
              "  </thead>\n",
              "  <tbody>\n",
              "    <tr>\n",
              "      <th>0</th>\n",
              "      <td>Lavavajillas</td>\n",
              "      <td>Electrodomésticos</td>\n",
              "      <td>1084800.0</td>\n",
              "      <td>56000.0</td>\n",
              "      <td>11/11/2022</td>\n",
              "      <td>Rafael Acosta</td>\n",
              "      <td>Bogotá</td>\n",
              "      <td>4</td>\n",
              "      <td>Tarjeta de crédito</td>\n",
              "      <td>3</td>\n",
              "      <td>4.60971</td>\n",
              "      <td>-74.08175</td>\n",
              "    </tr>\n",
              "    <tr>\n",
              "      <th>1</th>\n",
              "      <td>Cama box</td>\n",
              "      <td>Muebles</td>\n",
              "      <td>473800.0</td>\n",
              "      <td>25400.0</td>\n",
              "      <td>03/01/2020</td>\n",
              "      <td>Izabela de León</td>\n",
              "      <td>Cúcuta</td>\n",
              "      <td>5</td>\n",
              "      <td>Tarjeta de crédito</td>\n",
              "      <td>2</td>\n",
              "      <td>7.89391</td>\n",
              "      <td>-72.50782</td>\n",
              "    </tr>\n",
              "    <tr>\n",
              "      <th>2</th>\n",
              "      <td>Balón de baloncesto</td>\n",
              "      <td>Deportes y diversión</td>\n",
              "      <td>23700.0</td>\n",
              "      <td>0.0</td>\n",
              "      <td>25/12/2022</td>\n",
              "      <td>Maria Alfonso</td>\n",
              "      <td>Medellín</td>\n",
              "      <td>5</td>\n",
              "      <td>Nequi</td>\n",
              "      <td>1</td>\n",
              "      <td>6.25184</td>\n",
              "      <td>-75.56359</td>\n",
              "    </tr>\n",
              "    <tr>\n",
              "      <th>3</th>\n",
              "      <td>Modelado predictivo</td>\n",
              "      <td>Libros</td>\n",
              "      <td>57700.0</td>\n",
              "      <td>1300.0</td>\n",
              "      <td>23/11/2021</td>\n",
              "      <td>Lucas Olivera</td>\n",
              "      <td>Medellín</td>\n",
              "      <td>3</td>\n",
              "      <td>Nequi</td>\n",
              "      <td>1</td>\n",
              "      <td>6.25184</td>\n",
              "      <td>-75.56359</td>\n",
              "    </tr>\n",
              "    <tr>\n",
              "      <th>4</th>\n",
              "      <td>Auriculares</td>\n",
              "      <td>Electrónicos</td>\n",
              "      <td>138900.0</td>\n",
              "      <td>5600.0</td>\n",
              "      <td>25/04/2022</td>\n",
              "      <td>Blanca Ramirez</td>\n",
              "      <td>Bogotá</td>\n",
              "      <td>4</td>\n",
              "      <td>Tarjeta de crédito</td>\n",
              "      <td>7</td>\n",
              "      <td>4.60971</td>\n",
              "      <td>-74.08175</td>\n",
              "    </tr>\n",
              "  </tbody>\n",
              "</table>\n",
              "</div>"
            ],
            "text/plain": [
              "              Producto Categoría del Producto     Precio  Costo de envío  \\\n",
              "0         Lavavajillas      Electrodomésticos  1084800.0         56000.0   \n",
              "1             Cama box                Muebles   473800.0         25400.0   \n",
              "2  Balón de baloncesto   Deportes y diversión    23700.0             0.0   \n",
              "3  Modelado predictivo                 Libros    57700.0          1300.0   \n",
              "4          Auriculares           Electrónicos   138900.0          5600.0   \n",
              "\n",
              "  Fecha de Compra         Vendedor Lugar de Compra  Calificación  \\\n",
              "0      11/11/2022    Rafael Acosta          Bogotá             4   \n",
              "1      03/01/2020  Izabela de León          Cúcuta             5   \n",
              "2      25/12/2022    Maria Alfonso        Medellín             5   \n",
              "3      23/11/2021    Lucas Olivera        Medellín             3   \n",
              "4      25/04/2022   Blanca Ramirez          Bogotá             4   \n",
              "\n",
              "       Método de pago  Cantidad de cuotas      lat       lon  \n",
              "0  Tarjeta de crédito                   3  4.60971 -74.08175  \n",
              "1  Tarjeta de crédito                   2  7.89391 -72.50782  \n",
              "2               Nequi                   1  6.25184 -75.56359  \n",
              "3               Nequi                   1  6.25184 -75.56359  \n",
              "4  Tarjeta de crédito                   7  4.60971 -74.08175  "
            ]
          },
          "execution_count": 13,
          "metadata": {},
          "output_type": "execute_result"
        }
      ],
      "source": [
        "tienda4.head()"
      ]
    },
    {
      "cell_type": "markdown",
      "metadata": {
        "id": "X62IW3KFUIYm"
      },
      "source": [
        "# 1. Análisis de facturación\n",
        "\n"
      ]
    },
    {
      "cell_type": "code",
      "execution_count": 19,
      "metadata": {
        "id": "xykobSftV64I"
      },
      "outputs": [
        {
          "name": "stdout",
          "output_type": "stream",
          "text": [
            "La facturacion total para la tienda 1 es 1150880400.0\n",
            "La facturacion total para la tienda 2 es 1116343500.0\n",
            "La facturacion total para la tienda 3 es 1098019600.0\n",
            "La facturacion total para la tienda 4 es 1038375700.0\n"
          ]
        }
      ],
      "source": [
        "# Aqui hacemos el analisis de facturacion por tienda\n",
        "#Sumamos el precio total y el costo de envio total\n",
        "Facturacion_Total_Tienda1 = tienda['Precio'].sum()\n",
        "Facturacion_Total_Tienda2 = tienda2['Precio'].sum()\n",
        "Facturacion_Total_Tienda3 = tienda3['Precio'].sum()\n",
        "Facturacion_Total_Tienda4 = tienda4['Precio'].sum()\n",
        "\n",
        "print(f\"La facturacion total para la tienda 1 es {Facturacion_Total_Tienda1}\")\n",
        "print(f\"La facturacion total para la tienda 2 es {Facturacion_Total_Tienda2}\")\n",
        "print(f\"La facturacion total para la tienda 3 es {Facturacion_Total_Tienda3}\")\n",
        "print(f\"La facturacion total para la tienda 4 es {Facturacion_Total_Tienda4}\")"
      ]
    },
    {
      "cell_type": "markdown",
      "metadata": {
        "id": "2V_vcAPzWZmR"
      },
      "source": [
        "# 2. Ventas por categoría"
      ]
    },
    {
      "cell_type": "code",
      "execution_count": 23,
      "metadata": {
        "id": "A34YupIuYhfF"
      },
      "outputs": [
        {
          "data": {
            "application/vnd.microsoft.datawrangler.viewer.v0+json": {
              "columns": [
                {
                  "name": "Categoría del Producto",
                  "rawType": "object",
                  "type": "string"
                },
                {
                  "name": "count",
                  "rawType": "int64",
                  "type": "integer"
                }
              ],
              "ref": "76d810ab-3253-46c3-bb6c-6c91ea829d2e",
              "rows": [
                [
                  "Muebles",
                  "465"
                ],
                [
                  "Electrónicos",
                  "448"
                ],
                [
                  "Juguetes",
                  "324"
                ],
                [
                  "Electrodomésticos",
                  "312"
                ],
                [
                  "Deportes y diversión",
                  "284"
                ],
                [
                  "Instrumentos musicales",
                  "182"
                ],
                [
                  "Libros",
                  "173"
                ],
                [
                  "Artículos para el hogar",
                  "171"
                ]
              ],
              "shape": {
                "columns": 1,
                "rows": 8
              }
            },
            "text/plain": [
              "Categoría del Producto\n",
              "Muebles                    465\n",
              "Electrónicos               448\n",
              "Juguetes                   324\n",
              "Electrodomésticos          312\n",
              "Deportes y diversión       284\n",
              "Instrumentos musicales     182\n",
              "Libros                     173\n",
              "Artículos para el hogar    171\n",
              "Name: count, dtype: int64"
            ]
          },
          "execution_count": 23,
          "metadata": {},
          "output_type": "execute_result"
        }
      ],
      "source": [
        "# Ventas por categoria analizamos la cantidad de veces que se repite cada categoria\n",
        "# Para la tienda 1\n",
        "tienda['Categoría del Producto'].value_counts(ascending=False)"
      ]
    },
    {
      "cell_type": "code",
      "execution_count": 24,
      "metadata": {},
      "outputs": [
        {
          "data": {
            "application/vnd.microsoft.datawrangler.viewer.v0+json": {
              "columns": [
                {
                  "name": "Categoría del Producto",
                  "rawType": "object",
                  "type": "string"
                },
                {
                  "name": "count",
                  "rawType": "int64",
                  "type": "integer"
                }
              ],
              "ref": "a2194c7e-cc2f-4b21-8012-8adf5022b036",
              "rows": [
                [
                  "Muebles",
                  "442"
                ],
                [
                  "Electrónicos",
                  "422"
                ],
                [
                  "Juguetes",
                  "313"
                ],
                [
                  "Electrodomésticos",
                  "305"
                ],
                [
                  "Deportes y diversión",
                  "275"
                ],
                [
                  "Instrumentos musicales",
                  "224"
                ],
                [
                  "Libros",
                  "197"
                ],
                [
                  "Artículos para el hogar",
                  "181"
                ]
              ],
              "shape": {
                "columns": 1,
                "rows": 8
              }
            },
            "text/plain": [
              "Categoría del Producto\n",
              "Muebles                    442\n",
              "Electrónicos               422\n",
              "Juguetes                   313\n",
              "Electrodomésticos          305\n",
              "Deportes y diversión       275\n",
              "Instrumentos musicales     224\n",
              "Libros                     197\n",
              "Artículos para el hogar    181\n",
              "Name: count, dtype: int64"
            ]
          },
          "execution_count": 24,
          "metadata": {},
          "output_type": "execute_result"
        }
      ],
      "source": [
        "# Para la tienda 2\n",
        "tienda2['Categoría del Producto'].value_counts(ascending=False)"
      ]
    },
    {
      "cell_type": "code",
      "execution_count": 25,
      "metadata": {
        "id": "yZR6cOjXYSk1"
      },
      "outputs": [
        {
          "data": {
            "application/vnd.microsoft.datawrangler.viewer.v0+json": {
              "columns": [
                {
                  "name": "Categoría del Producto",
                  "rawType": "object",
                  "type": "string"
                },
                {
                  "name": "count",
                  "rawType": "int64",
                  "type": "integer"
                }
              ],
              "ref": "d299f151-beda-49d1-8830-aef87ae1bf17",
              "rows": [
                [
                  "Muebles",
                  "499"
                ],
                [
                  "Electrónicos",
                  "451"
                ],
                [
                  "Juguetes",
                  "315"
                ],
                [
                  "Electrodomésticos",
                  "278"
                ],
                [
                  "Deportes y diversión",
                  "277"
                ],
                [
                  "Libros",
                  "185"
                ],
                [
                  "Instrumentos musicales",
                  "177"
                ],
                [
                  "Artículos para el hogar",
                  "177"
                ]
              ],
              "shape": {
                "columns": 1,
                "rows": 8
              }
            },
            "text/plain": [
              "Categoría del Producto\n",
              "Muebles                    499\n",
              "Electrónicos               451\n",
              "Juguetes                   315\n",
              "Electrodomésticos          278\n",
              "Deportes y diversión       277\n",
              "Libros                     185\n",
              "Instrumentos musicales     177\n",
              "Artículos para el hogar    177\n",
              "Name: count, dtype: int64"
            ]
          },
          "execution_count": 25,
          "metadata": {},
          "output_type": "execute_result"
        }
      ],
      "source": [
        "# Para la tienda 3\n",
        "tienda3['Categoría del Producto'].value_counts(ascending=False)"
      ]
    },
    {
      "cell_type": "code",
      "execution_count": 26,
      "metadata": {},
      "outputs": [
        {
          "data": {
            "application/vnd.microsoft.datawrangler.viewer.v0+json": {
              "columns": [
                {
                  "name": "Categoría del Producto",
                  "rawType": "object",
                  "type": "string"
                },
                {
                  "name": "count",
                  "rawType": "int64",
                  "type": "integer"
                }
              ],
              "ref": "d7d06baa-f4fa-462e-a4c4-0cf3230f9ce9",
              "rows": [
                [
                  "Muebles",
                  "480"
                ],
                [
                  "Electrónicos",
                  "451"
                ],
                [
                  "Juguetes",
                  "338"
                ],
                [
                  "Deportes y diversión",
                  "277"
                ],
                [
                  "Electrodomésticos",
                  "254"
                ],
                [
                  "Artículos para el hogar",
                  "201"
                ],
                [
                  "Libros",
                  "187"
                ],
                [
                  "Instrumentos musicales",
                  "170"
                ]
              ],
              "shape": {
                "columns": 1,
                "rows": 8
              }
            },
            "text/plain": [
              "Categoría del Producto\n",
              "Muebles                    480\n",
              "Electrónicos               451\n",
              "Juguetes                   338\n",
              "Deportes y diversión       277\n",
              "Electrodomésticos          254\n",
              "Artículos para el hogar    201\n",
              "Libros                     187\n",
              "Instrumentos musicales     170\n",
              "Name: count, dtype: int64"
            ]
          },
          "execution_count": 26,
          "metadata": {},
          "output_type": "execute_result"
        }
      ],
      "source": [
        "# Para la tienda 4\n",
        "tienda4['Categoría del Producto'].value_counts(ascending=False)"
      ]
    },
    {
      "cell_type": "markdown",
      "metadata": {
        "id": "Rq6tU_xSY3jk"
      },
      "source": [
        "# 3. Calificación promedio de la tienda\n"
      ]
    },
    {
      "cell_type": "code",
      "execution_count": 87,
      "metadata": {
        "id": "bh3jjjJwY5MU"
      },
      "outputs": [
        {
          "name": "stdout",
          "output_type": "stream",
          "text": [
            "La calificacion promedio de la tienda 1 es de 3.98\n",
            "La calificacion promedio de la tienda 2 es de 4.04\n",
            "La calificacion promedio de la tienda 3 es de 4.05\n",
            "La calificacion promedio de la tienda 4 es de 4.00\n"
          ]
        }
      ],
      "source": [
        "# Aqui hallamos el valor promedio de la columna de calificacion por cada tienda\n",
        "calificaciones=[]\n",
        "calificaciones.append(tienda['Calificación'].mean())\n",
        "calificaciones.append(tienda2['Calificación'].mean())\n",
        "calificaciones.append(tienda3['Calificación'].mean())\n",
        "calificaciones.append(tienda4['Calificación'].mean())\n",
        "for i in range(4):\n",
        "    print(f\"La calificacion promedio de la tienda {i+1} es de {calificaciones[i]:.2f}\")"
      ]
    },
    {
      "cell_type": "markdown",
      "metadata": {
        "id": "DmNp1KPBZCm-"
      },
      "source": [
        "# 4. Productos más y menos vendidos"
      ]
    },
    {
      "cell_type": "code",
      "execution_count": 67,
      "metadata": {
        "id": "qoyjqijQZHfF"
      },
      "outputs": [
        {
          "name": "stdout",
          "output_type": "stream",
          "text": [
            "Los productos mas vendidos en la tienda 1 son ['TV LED UHD 4K', 'Armario', 'Microondas'] con 60 ventas\n",
            "Los productos menos vendidos en la tienda 1 son ['Auriculares con micrófono', 'Celular ABXY'] con 33 ventas\n"
          ]
        }
      ],
      "source": [
        "#Tienda 1\n",
        "# Obtenemos el número mínimo y maximo de ventas\n",
        "valor_minimo = tienda['Producto'].value_counts().min()\n",
        "valor_maximo = tienda['Producto'].value_counts().max()\n",
        "#Obtenemos la cantidad de ventas por producto\n",
        "ventas_por_producto = tienda['Producto'].value_counts()\n",
        "productos_mas_vendidos = ventas_por_producto[ventas_por_producto == valor_maximo].index.tolist()\n",
        "productos_menos_vendidos = ventas_por_producto[ventas_por_producto == valor_minimo].index.tolist()\n",
        "print(f\"Los productos mas vendidos en la tienda 1 son {productos_mas_vendidos} con {valor_maximo} ventas\")\n",
        "print(f\"Los productos menos vendidos en la tienda 1 son {productos_menos_vendidos} con {valor_minimo} ventas\")"
      ]
    },
    {
      "cell_type": "code",
      "execution_count": 68,
      "metadata": {
        "id": "0Sw3sd4IZIGW"
      },
      "outputs": [
        {
          "name": "stdout",
          "output_type": "stream",
          "text": [
            "Los productos mas vendidos en la tienda 2 son ['Iniciando en programación'] con 65 ventas\n",
            "Los productos menos vendidos en la tienda 2 son ['Juego de mesa'] con 32 ventas\n"
          ]
        }
      ],
      "source": [
        "#Tienda 2\n",
        "# Obtenemos el número mínimo y maximo de ventas\n",
        "valor_minimo = tienda2['Producto'].value_counts().min()\n",
        "valor_maximo = tienda2['Producto'].value_counts().max()\n",
        "#Obtenemos la cantidad de ventas por producto\n",
        "ventas_por_producto = tienda2['Producto'].value_counts()\n",
        "productos_mas_vendidos = ventas_por_producto[ventas_por_producto == valor_maximo].index.tolist()\n",
        "productos_menos_vendidos = ventas_por_producto[ventas_por_producto == valor_minimo].index.tolist()\n",
        "print(f\"Los productos mas vendidos en la tienda 2 son {productos_mas_vendidos} con {valor_maximo} ventas\")\n",
        "print(f\"Los productos menos vendidos en la tienda 2 son {productos_menos_vendidos} con {valor_minimo} ventas\")"
      ]
    },
    {
      "cell_type": "code",
      "execution_count": 69,
      "metadata": {},
      "outputs": [
        {
          "name": "stdout",
          "output_type": "stream",
          "text": [
            "Los productos mas vendidos en la tienda 3 son ['Kit de bancas'] con 57 ventas\n",
            "Los productos menos vendidos en la tienda 3 son ['Bloques de construcción'] con 35 ventas\n"
          ]
        }
      ],
      "source": [
        "#Tienda 3\n",
        "# Obtenemos el número mínimo y maximo de ventas\n",
        "valor_minimo = tienda3['Producto'].value_counts().min()\n",
        "valor_maximo = tienda3['Producto'].value_counts().max()\n",
        "#Obtenemos la cantidad de ventas por producto\n",
        "ventas_por_producto = tienda3['Producto'].value_counts()\n",
        "productos_mas_vendidos = ventas_por_producto[ventas_por_producto == valor_maximo].index.tolist()\n",
        "productos_menos_vendidos = ventas_por_producto[ventas_por_producto == valor_minimo].index.tolist()\n",
        "print(f\"Los productos mas vendidos en la tienda 3 son {productos_mas_vendidos} con {valor_maximo} ventas\")\n",
        "print(f\"Los productos menos vendidos en la tienda 3 son {productos_menos_vendidos} con {valor_minimo} ventas\")"
      ]
    },
    {
      "cell_type": "code",
      "execution_count": 70,
      "metadata": {},
      "outputs": [
        {
          "name": "stdout",
          "output_type": "stream",
          "text": [
            "Los productos mas vendidos en la tienda 4 son ['Cama box'] con 62 ventas\n",
            "Los productos menos vendidos en la tienda 4 son ['Guitarra eléctrica'] con 33 ventas\n"
          ]
        }
      ],
      "source": [
        "#Tienda 4\n",
        "# Obtenemos el número mínimo y maximo de ventas\n",
        "valor_minimo = tienda4['Producto'].value_counts().min()\n",
        "valor_maximo = tienda4['Producto'].value_counts().max()\n",
        "#Obtenemos la cantidad de ventas por producto\n",
        "ventas_por_producto = tienda4['Producto'].value_counts()\n",
        "productos_mas_vendidos = ventas_por_producto[ventas_por_producto == valor_maximo].index.tolist()\n",
        "productos_menos_vendidos = ventas_por_producto[ventas_por_producto == valor_minimo].index.tolist()\n",
        "print(f\"Los productos mas vendidos en la tienda 4 son {productos_mas_vendidos} con {valor_maximo} ventas\")\n",
        "print(f\"Los productos menos vendidos en la tienda 4 son {productos_menos_vendidos} con {valor_minimo} ventas\")"
      ]
    },
    {
      "cell_type": "markdown",
      "metadata": {
        "id": "Fl0cGi3bZKqU"
      },
      "source": [
        "# 5. Envío promedio por tienda"
      ]
    },
    {
      "cell_type": "code",
      "execution_count": 72,
      "metadata": {
        "id": "S2JeaCykZNy9"
      },
      "outputs": [
        {
          "name": "stdout",
          "output_type": "stream",
          "text": [
            "El costo de envio promedio de la tienda 1 es de 26018.61\n",
            "El costo de envio promedio de la tienda 2 es de 25216.24\n",
            "El costo de envio promedio de la tienda 3 es de 24805.68\n",
            "El costo de envio promedio de la tienda 4 es de 23459.46\n"
          ]
        }
      ],
      "source": [
        "#El envio promedio por tienda es hallar el costo del envio promedio por cada tienda\n",
        "promedio_costo_envio=[]\n",
        "promedio_costo_envio.append(tienda['Costo de envío'].mean())\n",
        "promedio_costo_envio.append(tienda2['Costo de envío'].mean())\n",
        "promedio_costo_envio.append(tienda3['Costo de envío'].mean())\n",
        "promedio_costo_envio.append(tienda4['Costo de envío'].mean())\n",
        "for i in range(4):\n",
        "    print(f\"El costo de envio promedio de la tienda {i+1} es de {promedio_costo_envio[i]:.2f}\")"
      ]
    },
    {
      "cell_type": "markdown",
      "metadata": {},
      "source": [
        "### Visualizaciones importantes"
      ]
    },
    {
      "cell_type": "code",
      "execution_count": 96,
      "metadata": {},
      "outputs": [
        {
          "data": {
            "image/png": "[encoded data removed]",
            "text/plain": [
              "<Figure size 400x400 with 1 Axes>"
            ]
          },
          "metadata": {},
          "output_type": "display_data"
        }
      ],
      "source": [
        "import matplotlib.pyplot as plt\n",
        "import seaborn as sns\n",
        "\n",
        "#vemos la facturacion total por tienda grafico de torta\n",
        "facturacion_total = [Facturacion_Total_Tienda1, Facturacion_Total_Tienda2, Facturacion_Total_Tienda3, Facturacion_Total_Tienda4]\n",
        "tiendas = ['Tienda 1', 'Tienda 2', 'Tienda 3', 'Tienda 4']  \n",
        "plt.figure(figsize=(4, 4))\n",
        "plt.pie(facturacion_total, labels=tiendas, autopct='%1.1f%%', startangle=140)\n",
        "plt.title('Facturación Total por Tienda')\n",
        "plt.axis('equal')  # Equal aspect ratio ensures that pie is drawn as a circle.\n",
        "plt.show()\n"
      ]
    },
    {
      "cell_type": "code",
      "execution_count": 82,
      "metadata": {},
      "outputs": [
        {
          "data": {
            "image/png": "[encoded data removed]",
            "text/plain": [
              "<Figure size 1200x800 with 1 Axes>"
            ]
          },
          "metadata": {},
          "output_type": "display_data"
        }
      ],
      "source": [
        "# Creamos un grafico de ventas por categoria en cada tienda para eso juntamos las tiendas en un solo dataframe\n",
        "tiendas = pd.concat([tienda, tienda2, tienda3, tienda4], keys=['Tienda 1', 'Tienda 2', 'Tienda 3', 'Tienda 4'])\n",
        "plt.figure(figsize=(12, 8))\n",
        "sns.countplot(data=tiendas, x='Categoría del Producto', hue=tiendas.index.get_level_values(0), palette='Set2')\n",
        "plt.title('Ventas por Categoría en Cada Tienda')\n",
        "plt.xlabel('Categoría del Producto')\n",
        "plt.ylabel('Cantidad de Ventas')\n",
        "plt.legend(title='Tienda')\n",
        "plt.xticks(rotation=45)\n",
        "plt.show()\n",
        "\n",
        "\n"
      ]
    },
    {
      "cell_type": "code",
      "execution_count": 91,
      "metadata": {},
      "outputs": [
        {
          "name": "stderr",
          "output_type": "stream",
          "text": [
            "C:\\Users\\pgsan\\AppData\\Local\\Temp\\ipykernel_22520\\1982403100.py:3: FutureWarning: \n",
            "\n",
            "Passing `palette` without assigning `hue` is deprecated and will be removed in v0.14.0. Assign the `y` variable to `hue` and set `legend=False` for the same effect.\n",
            "\n",
            "  sns.barplot(x=calificaciones, y=['Tienda 1', 'Tienda 2', 'Tienda 3', 'Tienda 4'], palette='coolwarm', orient='h')\n"
          ]
        },
        {
          "data": {
            "image/png": "[encoded data removed]",
            "text/plain": [
              "<Figure size 1000x600 with 1 Axes>"
            ]
          },
          "metadata": {},
          "output_type": "display_data"
        }
      ],
      "source": [
        "#graficamos la calificacion promedio por tienda\n",
        "plt.figure(figsize=(10, 6))\n",
        "sns.barplot(x=calificaciones, y=['Tienda 1', 'Tienda 2', 'Tienda 3', 'Tienda 4'], palette='coolwarm', orient='h')\n",
        "plt.title('Calificación Promedio por Tienda')\n",
        "plt.xlabel('Tiendas')\n",
        "plt.ylabel('Calificación Promedio')\n",
        "plt.xticks(rotation=45)\n",
        "plt.show()"
      ]
    },
    {
      "cell_type": "code",
      "execution_count": 94,
      "metadata": {},
      "outputs": [
        {
          "data": {
            "image/png": "[encoded data removed]",
            "text/plain": [
              "<Figure size 1200x800 with 1 Axes>"
            ]
          },
          "metadata": {},
          "output_type": "display_data"
        }
      ],
      "source": [
        "#precio por categoria en cada tienda\n",
        "plt.figure(figsize=(12, 8))\n",
        "sns.barplot(data=tiendas, x='Categoría del Producto', y='Precio', hue=tiendas.index.get_level_values(0), palette='Set1')\n",
        "plt.title('Precio por Categoría en Cada Tienda')\n",
        "plt.xlabel('Categoría del Producto')\n",
        "plt.ylabel('Precio')\n",
        "plt.xticks(rotation=45)\n",
        "plt.legend(title='Tienda')\n",
        "plt.show()\n"
      ]
    },
    {
      "cell_type": "markdown",
      "metadata": {},
      "source": [
        "#### Conclusion"
      ]
    },
    {
      "cell_type": "markdown",
      "metadata": {},
      "source": [
        "La tienda que debe cerrarse para invertir en otro emprendimiento es la tienda 4, nos basamos en :\n",
        "- Presenta menor facturacion que las otras 3.\n",
        "- Presenta una calificacion menor que la tienda 2 y tienda 3 mayor que la tienda 1 pero la tienda 1 es la que mas factura.\n",
        "- El costo de envio de la tienda es menor que las otras 3.\n",
        "- A pesar de ser la que mayor nro de ventas tiene en la categoria jueguetes, articulo para el hogar esas categorias no son las que mas ingresos generan a la tienda como si lo es electrodomesticos, electronicos y muebles"
      ]
    }
  ],
  "metadata": {
    "colab": {
      "provenance": []
    },
    "kernelspec": {
      "display_name": "base",
      "language": "python",
      "name": "python3"
    },
    "language_info": {
      "codemirror_mode": {
        "name": "ipython",
        "version": 3
      },
      "file_extension": ".py",
      "mimetype": "text/x-python",
      "name": "python",
      "nbconvert_exporter": "python",
      "pygments_lexer": "ipython3",
      "version": "3.12.7"
    }
  },
  "nbformat": 4,
  "nbformat_minor": 0
}
